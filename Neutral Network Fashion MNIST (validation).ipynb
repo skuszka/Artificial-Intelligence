{
 "cells": [
  {
   "cell_type": "markdown",
   "metadata": {},
   "source": [
    "# Neutral Network MNIST fashion - exercise with validation"
   ]
  },
  {
   "cell_type": "markdown",
   "metadata": {},
   "source": [
    "As with MNIST, each image is 28x28 which is a total of 784 pixels, and there are 10 classes"
   ]
  },
  {
   "cell_type": "code",
   "execution_count": 16,
   "metadata": {},
   "outputs": [],
   "source": [
    "import torch\n",
    "from torch import nn, optim\n",
    "import torch.nn.functional as F\n",
    "from torchvision import datasets, transforms\n",
    "import helper\n",
    "import matplotlib.pyplot as plt\n",
    "\n",
    "# Define a transform to normalize the data\n",
    "transform = transforms.Compose([transforms.ToTensor(),\n",
    "                                transforms.Normalize((0.5,), (0.5,))])\n",
    "# Download and load the training data\n",
    "trainset = datasets.FashionMNIST('~/.pytorch/F_MNIST_data/', download=True, train=True, transform=transform)\n",
    "trainloader = torch.utils.data.DataLoader(trainset, batch_size=64, shuffle=True)\n",
    "\n",
    "# Download and load the test data\n",
    "testset = datasets.FashionMNIST('~/.pytorch/F_MNIST_data/', download=True, train=False, transform=transform)\n",
    "testloader = torch.utils.data.DataLoader(testset, batch_size=64, shuffle=True)"
   ]
  },
  {
   "cell_type": "code",
   "execution_count": 23,
   "metadata": {},
   "outputs": [],
   "source": [
    "# Defining network architecture\n",
    "# 784 input units (28x28 images)\n",
    "# 256 hiden layer -ReLU activation function\n",
    "# 128 hiden layer -ReLU activation function\n",
    "# 64 hiden layer -ReLU activation function\n",
    "# 10 output layer for each class (10 classes) - Log-softmax function\n",
    "# nn.Dropout module used to reduce overfitting, where input unit will be randomly dropped \n",
    "\n",
    "class Classifier(nn.Module):\n",
    "    def __init__(self):\n",
    "        super().__init__()\n",
    "        self.fc1 = nn.Linear(784, 256)\n",
    "        self.fc2 = nn.Linear(256, 128)\n",
    "        self.fc3 = nn.Linear(128, 64)\n",
    "        self.fc4 = nn.Linear(64,10)\n",
    "        # Dropout module with 0.2 drop probability\n",
    "        self.dropout = nn.Dropout(p=0.2)\n",
    "    def forward(self, x):\n",
    "        # Make sure that input tensor is flattened into 784 long vector\n",
    "        x = x.view(x.shape[0],-1)\n",
    "    \n",
    "        # Now with dropout\n",
    "        x = self.dropout(F.relu(self.fc1(x)))\n",
    "        x = self.dropout(F.relu(self.fc2(x)))\n",
    "        x = self.dropout(F.relu(self.fc3(x)))\n",
    "        # no dropout for output\n",
    "        x = F.log_softmax(self.fc4(x), dim=1)\n",
    "        \n",
    "        return x\n",
    "        "
   ]
  },
  {
   "cell_type": "code",
   "execution_count": 24,
   "metadata": {},
   "outputs": [],
   "source": [
    "# During inference we want to use the entire network (no dropout).\n",
    "# Turn off dropout for: validation, testing, any predictions with model.eval() for which the dropout probability is 0\n",
    "# Turning on the dropout back with model.train()"
   ]
  },
  {
   "cell_type": "code",
   "execution_count": 40,
   "metadata": {},
   "outputs": [
    {
     "name": "stdout",
     "output_type": "stream",
     "text": [
      "Epoch 1 / 30 Training loss: 0.607 Testing loss: 0.496 Accuraccy 82.81 %\n",
      "Epoch 2 / 30 Training loss: 0.485 Testing loss: 0.470 Accuraccy 83.17 %\n",
      "Epoch 3 / 30 Training loss: 0.453 Testing loss: 0.417 Accuraccy 84.52 %\n",
      "Epoch 4 / 30 Training loss: 0.433 Testing loss: 0.442 Accuraccy 84.32 %\n",
      "Epoch 5 / 30 Training loss: 0.421 Testing loss: 0.419 Accuraccy 85.22 %\n",
      "Epoch 6 / 30 Training loss: 0.413 Testing loss: 0.403 Accuraccy 85.50 %\n",
      "Epoch 7 / 30 Training loss: 0.400 Testing loss: 0.395 Accuraccy 85.67 %\n",
      "Epoch 8 / 30 Training loss: 0.402 Testing loss: 0.395 Accuraccy 85.14 %\n",
      "Epoch 9 / 30 Training loss: 0.398 Testing loss: 0.417 Accuraccy 85.04 %\n",
      "Epoch 10 / 30 Training loss: 0.393 Testing loss: 0.390 Accuraccy 86.63 %\n",
      "Epoch 11 / 30 Training loss: 0.386 Testing loss: 0.393 Accuraccy 86.23 %\n",
      "Epoch 12 / 30 Training loss: 0.383 Testing loss: 0.385 Accuraccy 86.51 %\n",
      "Epoch 13 / 30 Training loss: 0.380 Testing loss: 0.385 Accuraccy 86.46 %\n",
      "Epoch 14 / 30 Training loss: 0.375 Testing loss: 0.390 Accuraccy 86.90 %\n",
      "Epoch 15 / 30 Training loss: 0.378 Testing loss: 0.394 Accuraccy 86.27 %\n",
      "Epoch 16 / 30 Training loss: 0.375 Testing loss: 0.383 Accuraccy 87.18 %\n",
      "Epoch 17 / 30 Training loss: 0.362 Testing loss: 0.394 Accuraccy 86.52 %\n",
      "Epoch 18 / 30 Training loss: 0.363 Testing loss: 0.373 Accuraccy 86.71 %\n",
      "Epoch 19 / 30 Training loss: 0.354 Testing loss: 0.376 Accuraccy 87.48 %\n",
      "Epoch 20 / 30 Training loss: 0.359 Testing loss: 0.380 Accuraccy 87.14 %\n",
      "Epoch 21 / 30 Training loss: 0.363 Testing loss: 0.395 Accuraccy 86.40 %\n",
      "Epoch 22 / 30 Training loss: 0.355 Testing loss: 0.388 Accuraccy 86.34 %\n",
      "Epoch 23 / 30 Training loss: 0.354 Testing loss: 0.375 Accuraccy 87.10 %\n",
      "Epoch 24 / 30 Training loss: 0.352 Testing loss: 0.373 Accuraccy 87.25 %\n",
      "Epoch 25 / 30 Training loss: 0.353 Testing loss: 0.372 Accuraccy 87.79 %\n",
      "Epoch 26 / 30 Training loss: 0.340 Testing loss: 0.380 Accuraccy 86.91 %\n",
      "Epoch 27 / 30 Training loss: 0.349 Testing loss: 0.365 Accuraccy 87.23 %\n",
      "Epoch 28 / 30 Training loss: 0.345 Testing loss: 0.385 Accuraccy 86.78 %\n",
      "Epoch 29 / 30 Training loss: 0.342 Testing loss: 0.366 Accuraccy 88.18 %\n",
      "Epoch 30 / 30 Training loss: 0.336 Testing loss: 0.382 Accuraccy 87.61 %\n"
     ]
    }
   ],
   "source": [
    "model = Classifier()\n",
    "# Definig the loss with the negative log likehood loss.(Loss - distance between the true and predicted values)\n",
    "criterion = nn.NLLLoss()\n",
    "\n",
    "# Checked also and loss is bigger for optim.SGD lr = 0.001 (for epoch 5 is 0.48467831648806775).\n",
    "optimizer = optim.Adam(model.parameters(), lr=0.003)\n",
    "\n",
    "epochs = 30\n",
    "train_losses, test_losses = [], []\n",
    "# Training the network.\n",
    "for e in range(epochs):\n",
    "    running_loss = 0    \n",
    "    for image, labels in trainloader:\n",
    "        optimizer.zero_grad()\n",
    "        log_ps = model(image)\n",
    "        \n",
    "        # Calculating the loss with the outputs and the labels.\n",
    "        loss = criterion(log_ps, labels)\n",
    "        \n",
    "        # Calculating the gradients for the parameters.\n",
    "        loss.backward()\n",
    "        \n",
    "        # Taking an update step and few the new weights.\n",
    "        optimizer.step()\n",
    "        \n",
    "        running_loss +=loss.item()\n",
    "        \n",
    "    else:\n",
    "        # Implementing the validation pass and printing out the validation accuracy.\n",
    "        # Goal of validation: measure the model performance on the test dataset - here as calculating the accuracy\n",
    "        # Turn off gradients - speeding up the code, as there will be no update of parameters in validation pass.\n",
    "        test_loss = 0\n",
    "        accuracy = 0\n",
    "        with torch.no_grad(): \n",
    "            # During inference the entire network is used, so no dropout\n",
    "            #model.eval() - sets the model to evaluation mode where dropout probability is 0\n",
    "            model.eval()\n",
    "            for image, labels in testloader:\n",
    "                log_ps = model(image)\n",
    "                test_loss += criterion(log_ps, labels)\n",
    "                \n",
    "                # Get the class probabilities\n",
    "                ps = torch.exp(log_ps)\n",
    "                \n",
    "                # Getting the most likely class using the ps.topk method - returns a tuple of the top-k values and the top-kindices\n",
    "                top_p, top_class = ps.topk(1,dim=1)\n",
    "                \n",
    "                #Check if the predicted classes match the labels\n",
    "                equals = top_class==labels.view(*top_class.shape)\n",
    "                \n",
    "                #calculate the percentage of correct predictions\n",
    "                #convert equals to a float tensor from torch.ByteTensor\n",
    "                accuracy += torch.mean(equals.type(torch.FloatTensor))\n",
    "        model.train()\n",
    "        \n",
    "    train_losses.append(test_loss/len(testloader))\n",
    "    test_losses.append(running_loss/len(trainloader))\n",
    "    #torch.mean returns a scalar tensor, to get the actual value as a float we'll need to do accuracy.item()\n",
    "        \n",
    "    print(\"Epoch {} / {}\".format(e+1, epochs),\n",
    "            \"Training loss: {:.3f}\".format(running_loss/len(trainloader)),\n",
    "             \"Testing loss: {:.3f}\".format(test_loss/len(testloader)),\n",
    "             \"Accuraccy {:.2f} %\".format(accuracy.item()/len(testloader)*100))       \n",
    "            \n",
    "            "
   ]
  },
  {
   "cell_type": "code",
   "execution_count": 41,
   "metadata": {},
   "outputs": [
    {
     "data": {
      "text/plain": [
       "<matplotlib.legend.Legend at 0xb865470>"
      ]
     },
     "execution_count": 41,
     "metadata": {},
     "output_type": "execute_result"
    },
    {
     "data": {
      "image/png": "[encoded data removed]",
      "text/plain": [
       "<Figure size 432x288 with 1 Axes>"
      ]
     },
     "metadata": {},
     "output_type": "display_data"
    }
   ],
   "source": [
    "plt.plot(train_losses, label=\"Training loss\")\n",
    "plt.plot(test_losses, label=\"Testing loss\")\n",
    "plt.legend(frameon=False)"
   ]
  },
  {
   "cell_type": "code",
   "execution_count": 45,
   "metadata": {},
   "outputs": [
    {
     "data": {
      "text/plain": [
       "False"
      ]
     },
     "execution_count": 45,
     "metadata": {},
     "output_type": "execute_result"
    }
   ],
   "source": [
    "torch.cuda.is_available()"
   ]
  },
  {
   "cell_type": "code",
   "execution_count": 44,
   "metadata": {},
   "outputs": [
    {
     "data": {
      "text/plain": [
       "0"
      ]
     },
     "execution_count": 44,
     "metadata": {},
     "output_type": "execute_result"
    }
   ],
   "source": [
    "torch.cuda.device_count()"
   ]
  },
  {
   "cell_type": "code",
   "execution_count": null,
   "metadata": {},
   "outputs": [],
   "source": []
  }
 ],
 "metadata": {
  "kernelspec": {
   "display_name": "Python 3",
   "language": "python",
   "name": "python3"
  },
  "language_info": {
   "codemirror_mode": {
    "name": "ipython",
    "version": 3
   },
   "file_extension": ".py",
   "mimetype": "text/x-python",
   "name": "python",
   "nbconvert_exporter": "python",
   "pygments_lexer": "ipython3",
   "version": "3.6.5"
  }
 },
 "nbformat": 4,
 "nbformat_minor": 2
}
